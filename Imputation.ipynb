{
 "cells": [
  {
   "cell_type": "code",
   "execution_count": 30,
   "id": "636df6aa",
   "metadata": {},
   "outputs": [],
   "source": [
    "import pandas as pd\n",
    "import missingno as msno\n",
    "import numpy as np\n",
    "from sklearn.preprocessing import MinMaxScaler"
   ]
  },
  {
   "cell_type": "code",
   "execution_count": 2,
   "id": "1363a98e",
   "metadata": {},
   "outputs": [],
   "source": [
    "df= pd.read_csv('dataset.csv')"
   ]
  },
  {
   "cell_type": "code",
   "execution_count": 10,
   "id": "918657ab",
   "metadata": {},
   "outputs": [
    {
     "data": {
      "text/plain": [
       "<AxesSubplot:>"
      ]
     },
     "execution_count": 10,
     "metadata": {},
     "output_type": "execute_result"
    },
    {
     "data": {
      "image/png": "[encoded data removed]",
      "text/plain": [
       "<Figure size 1800x720 with 2 Axes>"
      ]
     },
     "metadata": {
      "needs_background": "light"
     },
     "output_type": "display_data"
    }
   ],
   "source": [
    "#msno.matrix(df)"
   ]
  },
  {
   "cell_type": "code",
   "execution_count": 18,
   "id": "47c24ab1",
   "metadata": {},
   "outputs": [],
   "source": [
    "# df2 --> impute missing values with mean\n",
    "df2 = df"
   ]
  },
  {
   "cell_type": "code",
   "execution_count": 20,
   "id": "61b6a3bb",
   "metadata": {},
   "outputs": [
    {
     "data": {
      "text/plain": [
       "(4799, 5)"
      ]
     },
     "execution_count": 20,
     "metadata": {},
     "output_type": "execute_result"
    }
   ],
   "source": [
    "df2.shape"
   ]
  },
  {
   "cell_type": "code",
   "execution_count": 23,
   "id": "93c0524e",
   "metadata": {
    "scrolled": true
   },
   "outputs": [
    {
     "data": {
      "text/html": [
       "<div>\n",
       "<style scoped>\n",
       "    .dataframe tbody tr th:only-of-type {\n",
       "        vertical-align: middle;\n",
       "    }\n",
       "\n",
       "    .dataframe tbody tr th {\n",
       "        vertical-align: top;\n",
       "    }\n",
       "\n",
       "    .dataframe thead th {\n",
       "        text-align: right;\n",
       "    }\n",
       "</style>\n",
       "<table border=\"1\" class=\"dataframe\">\n",
       "  <thead>\n",
       "    <tr style=\"text-align: right;\">\n",
       "      <th></th>\n",
       "      <th>create_age(months)</th>\n",
       "      <th>expiry_age(months)</th>\n",
       "      <th>update_age(days)</th>\n",
       "      <th>URL</th>\n",
       "      <th>Label</th>\n",
       "    </tr>\n",
       "  </thead>\n",
       "  <tbody>\n",
       "    <tr>\n",
       "      <th>0</th>\n",
       "      <td>-1</td>\n",
       "      <td>-1</td>\n",
       "      <td>-1</td>\n",
       "      <td>http://account-google-com.ngate.my/c44cca40176...</td>\n",
       "      <td>1</td>\n",
       "    </tr>\n",
       "    <tr>\n",
       "      <th>1</th>\n",
       "      <td>212</td>\n",
       "      <td>16</td>\n",
       "      <td>663</td>\n",
       "      <td>http://www.coffeespecialties.com/...</td>\n",
       "      <td>0</td>\n",
       "    </tr>\n",
       "    <tr>\n",
       "      <th>2</th>\n",
       "      <td>-1</td>\n",
       "      <td>-1</td>\n",
       "      <td>-1</td>\n",
       "      <td>http://black.pk/wp-content/2013/04/bp.postale/...</td>\n",
       "      <td>1</td>\n",
       "    </tr>\n",
       "    <tr>\n",
       "      <th>3</th>\n",
       "      <td>198</td>\n",
       "      <td>6</td>\n",
       "      <td>186</td>\n",
       "      <td>http://atomicsoda.com/manutd...</td>\n",
       "      <td>0</td>\n",
       "    </tr>\n",
       "    <tr>\n",
       "      <th>4</th>\n",
       "      <td>240</td>\n",
       "      <td>24</td>\n",
       "      <td>1684</td>\n",
       "      <td>http://bostoncoffeecake.com/...</td>\n",
       "      <td>0</td>\n",
       "    </tr>\n",
       "  </tbody>\n",
       "</table>\n",
       "</div>"
      ],
      "text/plain": [
       "   create_age(months)  expiry_age(months)  update_age(days)  \\\n",
       "0                  -1                  -1                -1   \n",
       "1                 212                  16               663   \n",
       "2                  -1                  -1                -1   \n",
       "3                 198                   6               186   \n",
       "4                 240                  24              1684   \n",
       "\n",
       "                                                 URL  Label  \n",
       "0  http://account-google-com.ngate.my/c44cca40176...      1  \n",
       "1               http://www.coffeespecialties.com/...      0  \n",
       "2  http://black.pk/wp-content/2013/04/bp.postale/...      1  \n",
       "3                    http://atomicsoda.com/manutd...      0  \n",
       "4                    http://bostoncoffeecake.com/...      0  "
      ]
     },
     "execution_count": 23,
     "metadata": {},
     "output_type": "execute_result"
    }
   ],
   "source": [
    "df2.head()"
   ]
  },
  {
   "cell_type": "code",
   "execution_count": 25,
   "id": "fc2589a7",
   "metadata": {},
   "outputs": [
    {
     "name": "stderr",
     "output_type": "stream",
     "text": [
      "<ipython-input-25-18d4af57e113>:1: SettingWithCopyWarning: \n",
      "A value is trying to be set on a copy of a slice from a DataFrame\n",
      "\n",
      "See the caveats in the documentation: https://pandas.pydata.org/pandas-docs/stable/user_guide/indexing.html#returning-a-view-versus-a-copy\n",
      "  df2['create_age(months)'][df2['create_age(months)']<0]=np.nan\n",
      "<ipython-input-25-18d4af57e113>:2: SettingWithCopyWarning: \n",
      "A value is trying to be set on a copy of a slice from a DataFrame\n",
      "\n",
      "See the caveats in the documentation: https://pandas.pydata.org/pandas-docs/stable/user_guide/indexing.html#returning-a-view-versus-a-copy\n",
      "  df2['expiry_age(months)'][df2['expiry_age(months)']<0]=np.nan\n",
      "<ipython-input-25-18d4af57e113>:3: SettingWithCopyWarning: \n",
      "A value is trying to be set on a copy of a slice from a DataFrame\n",
      "\n",
      "See the caveats in the documentation: https://pandas.pydata.org/pandas-docs/stable/user_guide/indexing.html#returning-a-view-versus-a-copy\n",
      "  df2['update_age(days)'][df2['update_age(days)']<0]=np.nan\n"
     ]
    }
   ],
   "source": [
    "# replace negative values with Nan \n",
    "df2['create_age(months)'][df2['create_age(months)']<0]=np.nan\n",
    "df2['expiry_age(months)'][df2['expiry_age(months)']<0]=np.nan\n",
    "df2['update_age(days)'][df2['update_age(days)']<0]=np.nan"
   ]
  },
  {
   "cell_type": "code",
   "execution_count": 27,
   "id": "6f6eb35c",
   "metadata": {},
   "outputs": [],
   "source": [
    "# replace Nan with mean of the column\n",
    "df2['create_age(months)'].fillna((df2['create_age(months)'].mean()),inplace=True)\n",
    "df2['expiry_age(months)'].fillna((df2['expiry_age(months)'].mean()),inplace=True)\n",
    "df2['expiry_age(months)'].fillna((df2['update_age(days)'].mean()),inplace=True)"
   ]
  },
  {
   "cell_type": "code",
   "execution_count": 41,
   "id": "c8b53f90",
   "metadata": {},
   "outputs": [
    {
     "data": {
      "text/html": [
       "<div>\n",
       "<style scoped>\n",
       "    .dataframe tbody tr th:only-of-type {\n",
       "        vertical-align: middle;\n",
       "    }\n",
       "\n",
       "    .dataframe tbody tr th {\n",
       "        vertical-align: top;\n",
       "    }\n",
       "\n",
       "    .dataframe thead th {\n",
       "        text-align: right;\n",
       "    }\n",
       "</style>\n",
       "<table border=\"1\" class=\"dataframe\">\n",
       "  <thead>\n",
       "    <tr style=\"text-align: right;\">\n",
       "      <th></th>\n",
       "      <th>create_age(months)</th>\n",
       "      <th>expiry_age(months)</th>\n",
       "      <th>update_age(days)</th>\n",
       "      <th>URL</th>\n",
       "      <th>Label</th>\n",
       "    </tr>\n",
       "  </thead>\n",
       "  <tbody>\n",
       "    <tr>\n",
       "      <th>0</th>\n",
       "      <td>130.617831</td>\n",
       "      <td>17.155511</td>\n",
       "      <td>394.380048</td>\n",
       "      <td>http://account-google-com.ngate.my/c44cca40176...</td>\n",
       "      <td>1</td>\n",
       "    </tr>\n",
       "    <tr>\n",
       "      <th>1</th>\n",
       "      <td>212.000000</td>\n",
       "      <td>16.000000</td>\n",
       "      <td>663.000000</td>\n",
       "      <td>http://www.coffeespecialties.com/...</td>\n",
       "      <td>0</td>\n",
       "    </tr>\n",
       "    <tr>\n",
       "      <th>2</th>\n",
       "      <td>130.617831</td>\n",
       "      <td>17.155511</td>\n",
       "      <td>394.380048</td>\n",
       "      <td>http://black.pk/wp-content/2013/04/bp.postale/...</td>\n",
       "      <td>1</td>\n",
       "    </tr>\n",
       "    <tr>\n",
       "      <th>3</th>\n",
       "      <td>198.000000</td>\n",
       "      <td>6.000000</td>\n",
       "      <td>186.000000</td>\n",
       "      <td>http://atomicsoda.com/manutd...</td>\n",
       "      <td>0</td>\n",
       "    </tr>\n",
       "    <tr>\n",
       "      <th>4</th>\n",
       "      <td>240.000000</td>\n",
       "      <td>24.000000</td>\n",
       "      <td>1684.000000</td>\n",
       "      <td>http://bostoncoffeecake.com/...</td>\n",
       "      <td>0</td>\n",
       "    </tr>\n",
       "  </tbody>\n",
       "</table>\n",
       "</div>"
      ],
      "text/plain": [
       "   create_age(months)  expiry_age(months)  update_age(days)  \\\n",
       "0          130.617831           17.155511        394.380048   \n",
       "1          212.000000           16.000000        663.000000   \n",
       "2          130.617831           17.155511        394.380048   \n",
       "3          198.000000            6.000000        186.000000   \n",
       "4          240.000000           24.000000       1684.000000   \n",
       "\n",
       "                                                 URL  Label  \n",
       "0  http://account-google-com.ngate.my/c44cca40176...      1  \n",
       "1               http://www.coffeespecialties.com/...      0  \n",
       "2  http://black.pk/wp-content/2013/04/bp.postale/...      1  \n",
       "3                    http://atomicsoda.com/manutd...      0  \n",
       "4                    http://bostoncoffeecake.com/...      0  "
      ]
     },
     "execution_count": 41,
     "metadata": {},
     "output_type": "execute_result"
    }
   ],
   "source": [
    "df2.head()"
   ]
  },
  {
   "cell_type": "code",
   "execution_count": null,
   "id": "7e500e42",
   "metadata": {},
   "outputs": [],
   "source": [
    "# normalize the data\n",
    "MinMaxScaler\n",
    "df2[]=MinMaxScaler().fit_transform(df2[].reshape(-1,1))"
   ]
  },
  {
   "cell_type": "code",
   "execution_count": 31,
   "id": "5d746ba6",
   "metadata": {},
   "outputs": [],
   "source": [
    "#df3 --> Delete rows with missing values\n",
    "df3 = df"
   ]
  },
  {
   "cell_type": "code",
   "execution_count": 36,
   "id": "804e3526",
   "metadata": {},
   "outputs": [],
   "source": [
    "df3 = df3[(df3['create_age(months)']>0) & (df3['expiry_age(months)']>0) & (df3['expiry_age(months)'])]"
   ]
  },
  {
   "cell_type": "code",
   "execution_count": 39,
   "id": "81d90618",
   "metadata": {},
   "outputs": [
    {
     "name": "stdout",
     "output_type": "stream",
     "text": [
      "Shape of Original Data (4799, 5)\n",
      "Shape of removed rows with negative values (4739, 5)\n"
     ]
    }
   ],
   "source": [
    "print('Shape of Original Data',df.shape)\n",
    "print('Shape of removed rows with negative values',df3.shape)"
   ]
  },
  {
   "cell_type": "code",
   "execution_count": 40,
   "id": "7326fdfa",
   "metadata": {},
   "outputs": [
    {
     "data": {
      "text/html": [
       "<div>\n",
       "<style scoped>\n",
       "    .dataframe tbody tr th:only-of-type {\n",
       "        vertical-align: middle;\n",
       "    }\n",
       "\n",
       "    .dataframe tbody tr th {\n",
       "        vertical-align: top;\n",
       "    }\n",
       "\n",
       "    .dataframe thead th {\n",
       "        text-align: right;\n",
       "    }\n",
       "</style>\n",
       "<table border=\"1\" class=\"dataframe\">\n",
       "  <thead>\n",
       "    <tr style=\"text-align: right;\">\n",
       "      <th></th>\n",
       "      <th>create_age(months)</th>\n",
       "      <th>expiry_age(months)</th>\n",
       "      <th>update_age(days)</th>\n",
       "      <th>URL</th>\n",
       "      <th>Label</th>\n",
       "    </tr>\n",
       "  </thead>\n",
       "  <tbody>\n",
       "    <tr>\n",
       "      <th>0</th>\n",
       "      <td>130.617831</td>\n",
       "      <td>17.155511</td>\n",
       "      <td>394.380048</td>\n",
       "      <td>http://account-google-com.ngate.my/c44cca40176...</td>\n",
       "      <td>1</td>\n",
       "    </tr>\n",
       "    <tr>\n",
       "      <th>1</th>\n",
       "      <td>212.000000</td>\n",
       "      <td>16.000000</td>\n",
       "      <td>663.000000</td>\n",
       "      <td>http://www.coffeespecialties.com/...</td>\n",
       "      <td>0</td>\n",
       "    </tr>\n",
       "    <tr>\n",
       "      <th>2</th>\n",
       "      <td>130.617831</td>\n",
       "      <td>17.155511</td>\n",
       "      <td>394.380048</td>\n",
       "      <td>http://black.pk/wp-content/2013/04/bp.postale/...</td>\n",
       "      <td>1</td>\n",
       "    </tr>\n",
       "    <tr>\n",
       "      <th>3</th>\n",
       "      <td>198.000000</td>\n",
       "      <td>6.000000</td>\n",
       "      <td>186.000000</td>\n",
       "      <td>http://atomicsoda.com/manutd...</td>\n",
       "      <td>0</td>\n",
       "    </tr>\n",
       "    <tr>\n",
       "      <th>4</th>\n",
       "      <td>240.000000</td>\n",
       "      <td>24.000000</td>\n",
       "      <td>1684.000000</td>\n",
       "      <td>http://bostoncoffeecake.com/...</td>\n",
       "      <td>0</td>\n",
       "    </tr>\n",
       "    <tr>\n",
       "      <th>...</th>\n",
       "      <td>...</td>\n",
       "      <td>...</td>\n",
       "      <td>...</td>\n",
       "      <td>...</td>\n",
       "      <td>...</td>\n",
       "    </tr>\n",
       "    <tr>\n",
       "      <th>4794</th>\n",
       "      <td>52.000000</td>\n",
       "      <td>8.000000</td>\n",
       "      <td>118.000000</td>\n",
       "      <td>http://aridfoods.com/V4/MGen/F97a8a294cf7c5e90...</td>\n",
       "      <td>1</td>\n",
       "    </tr>\n",
       "    <tr>\n",
       "      <th>4795</th>\n",
       "      <td>130.617831</td>\n",
       "      <td>17.155511</td>\n",
       "      <td>394.380048</td>\n",
       "      <td>http://www.mazda.co.jp/...</td>\n",
       "      <td>0</td>\n",
       "    </tr>\n",
       "    <tr>\n",
       "      <th>4796</th>\n",
       "      <td>130.617831</td>\n",
       "      <td>17.155511</td>\n",
       "      <td>394.380048</td>\n",
       "      <td>http://www.fotografaemsaopaulo.com.br/wp-admin...</td>\n",
       "      <td>1</td>\n",
       "    </tr>\n",
       "    <tr>\n",
       "      <th>4797</th>\n",
       "      <td>130.617831</td>\n",
       "      <td>17.155511</td>\n",
       "      <td>394.380048</td>\n",
       "      <td>http://agenda.wehrensarl.ch/libraries/joomla/h...</td>\n",
       "      <td>1</td>\n",
       "    </tr>\n",
       "    <tr>\n",
       "      <th>4798</th>\n",
       "      <td>172.000000</td>\n",
       "      <td>68.000000</td>\n",
       "      <td>745.000000</td>\n",
       "      <td>http://www.waterfrontrecords.com/...</td>\n",
       "      <td>0</td>\n",
       "    </tr>\n",
       "  </tbody>\n",
       "</table>\n",
       "<p>4739 rows × 5 columns</p>\n",
       "</div>"
      ],
      "text/plain": [
       "      create_age(months)  expiry_age(months)  update_age(days)  \\\n",
       "0             130.617831           17.155511        394.380048   \n",
       "1             212.000000           16.000000        663.000000   \n",
       "2             130.617831           17.155511        394.380048   \n",
       "3             198.000000            6.000000        186.000000   \n",
       "4             240.000000           24.000000       1684.000000   \n",
       "...                  ...                 ...               ...   \n",
       "4794           52.000000            8.000000        118.000000   \n",
       "4795          130.617831           17.155511        394.380048   \n",
       "4796          130.617831           17.155511        394.380048   \n",
       "4797          130.617831           17.155511        394.380048   \n",
       "4798          172.000000           68.000000        745.000000   \n",
       "\n",
       "                                                    URL  Label  \n",
       "0     http://account-google-com.ngate.my/c44cca40176...      1  \n",
       "1                  http://www.coffeespecialties.com/...      0  \n",
       "2     http://black.pk/wp-content/2013/04/bp.postale/...      1  \n",
       "3                       http://atomicsoda.com/manutd...      0  \n",
       "4                       http://bostoncoffeecake.com/...      0  \n",
       "...                                                 ...    ...  \n",
       "4794  http://aridfoods.com/V4/MGen/F97a8a294cf7c5e90...      1  \n",
       "4795                         http://www.mazda.co.jp/...      0  \n",
       "4796  http://www.fotografaemsaopaulo.com.br/wp-admin...      1  \n",
       "4797  http://agenda.wehrensarl.ch/libraries/joomla/h...      1  \n",
       "4798               http://www.waterfrontrecords.com/...      0  \n",
       "\n",
       "[4739 rows x 5 columns]"
      ]
     },
     "execution_count": 40,
     "metadata": {},
     "output_type": "execute_result"
    }
   ],
   "source": [
    "df3"
   ]
  },
  {
   "cell_type": "code",
   "execution_count": null,
   "id": "b2f685f4",
   "metadata": {},
   "outputs": [],
   "source": []
  }
 ],
 "metadata": {
  "kernelspec": {
   "display_name": "Python 3",
   "language": "python",
   "name": "python3"
  },
  "language_info": {
   "codemirror_mode": {
    "name": "ipython",
    "version": 3
   },
   "file_extension": ".py",
   "mimetype": "text/x-python",
   "name": "python",
   "nbconvert_exporter": "python",
   "pygments_lexer": "ipython3",
   "version": "3.8.8"
  }
 },
 "nbformat": 4,
 "nbformat_minor": 5
}
