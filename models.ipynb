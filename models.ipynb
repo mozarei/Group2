{
 "cells": [
  {
   "cell_type": "markdown",
   "id": "bf99cc31",
   "metadata": {},
   "source": [
    "Session 2 notebook"
   ]
  },
  {
   "cell_type": "code",
   "execution_count": 42,
   "id": "0b2d5a0c",
   "metadata": {},
   "outputs": [],
   "source": [
    "import pandas as pd\n",
    "import numpy as np\n",
    "import math\n",
    "import matplotlib.pyplot as plt\n",
    "from sklearn.linear_model import LogisticRegression\n",
    "from sklearn.model_selection import train_test_split\n",
    "from tld import get_tld\n",
    "from sklearn.metrics import f1_score\n",
    "from sklearn.neighbors import KNeighborsClassifier\n",
    "from sklearn import tree\n",
    "from sklearn.naive_bayes import GaussianNB\n",
    "from sklearn import svm\n",
    "from sklearn.ensemble import AdaBoostClassifier\n",
    "from sklearn.ensemble import RandomForestClassifier\n",
    "from interpret.glassbox import ExplainableBoostingClassifier\n",
    "import xgboost as xgb"
   ]
  },
  {
   "cell_type": "code",
   "execution_count": 43,
   "id": "4cd0d255",
   "metadata": {},
   "outputs": [],
   "source": [
    "df = pd.read_csv('Phishing_Mitre_Dataset_Summer_of_AI.csv')"
   ]
  },
  {
   "cell_type": "code",
   "execution_count": 44,
   "id": "4e8172aa",
   "metadata": {},
   "outputs": [],
   "source": [
    "#create URL features\n",
    "\n",
    "def entropy(url_string):\n",
    "        string = url_string.strip()\n",
    "        prob = [float(string.count(c)) / len(string) for c in dict.fromkeys(list(string))]\n",
    "        entropy = sum([(p * math.log(p) / math.log(2.0)) for p in prob])\n",
    "        return abs(entropy)\n",
    "    \n",
    "def has_www(url_string):\n",
    "    if (url_string.find('www.') == -1):\n",
    "        return 0\n",
    "    else:\n",
    "        return 1\n",
    "    \n",
    "df['url_length'] = df['URL'].apply(len)\n",
    "df['url_entropy'] = df['URL'].apply(entropy)\n",
    "df['3rd_level_domain'] = df['URL'].apply(has_www)\n",
    "\n",
    "df['count_non_alpha_full'] = df['URL'].str.findall(r'[^a-zA-Z]').str.len() "
   ]
  },
  {
   "cell_type": "code",
   "execution_count": 45,
   "id": "e0f2d610",
   "metadata": {},
   "outputs": [
    {
     "data": {
      "text/html": [
       "<div>\n",
       "<style scoped>\n",
       "    .dataframe tbody tr th:only-of-type {\n",
       "        vertical-align: middle;\n",
       "    }\n",
       "\n",
       "    .dataframe tbody tr th {\n",
       "        vertical-align: top;\n",
       "    }\n",
       "\n",
       "    .dataframe thead th {\n",
       "        text-align: right;\n",
       "    }\n",
       "</style>\n",
       "<table border=\"1\" class=\"dataframe\">\n",
       "  <thead>\n",
       "    <tr style=\"text-align: right;\">\n",
       "      <th></th>\n",
       "      <th>create_age(months)</th>\n",
       "      <th>expiry_age(months)</th>\n",
       "      <th>update_age(days)</th>\n",
       "      <th>URL</th>\n",
       "      <th>Label</th>\n",
       "      <th>url_length</th>\n",
       "      <th>url_entropy</th>\n",
       "      <th>3rd_level_domain</th>\n",
       "      <th>count_non_alpha_full</th>\n",
       "    </tr>\n",
       "  </thead>\n",
       "  <tbody>\n",
       "    <tr>\n",
       "      <th>0</th>\n",
       "      <td>-1</td>\n",
       "      <td>-1</td>\n",
       "      <td>-1</td>\n",
       "      <td>http://account-google-com.ngate.my/c44cca40176...</td>\n",
       "      <td>1</td>\n",
       "      <td>70</td>\n",
       "      <td>4.612783</td>\n",
       "      <td>0</td>\n",
       "      <td>32</td>\n",
       "    </tr>\n",
       "    <tr>\n",
       "      <th>1</th>\n",
       "      <td>212</td>\n",
       "      <td>16</td>\n",
       "      <td>663</td>\n",
       "      <td>http://www.coffeespecialties.com/...</td>\n",
       "      <td>0</td>\n",
       "      <td>36</td>\n",
       "      <td>3.819114</td>\n",
       "      <td>1</td>\n",
       "      <td>9</td>\n",
       "    </tr>\n",
       "    <tr>\n",
       "      <th>2</th>\n",
       "      <td>-1</td>\n",
       "      <td>-1</td>\n",
       "      <td>-1</td>\n",
       "      <td>http://black.pk/wp-content/2013/04/bp.postale/...</td>\n",
       "      <td>1</td>\n",
       "      <td>73</td>\n",
       "      <td>4.370385</td>\n",
       "      <td>0</td>\n",
       "      <td>35</td>\n",
       "    </tr>\n",
       "    <tr>\n",
       "      <th>3</th>\n",
       "      <td>198</td>\n",
       "      <td>6</td>\n",
       "      <td>186</td>\n",
       "      <td>http://atomicsoda.com/manutd...</td>\n",
       "      <td>0</td>\n",
       "      <td>31</td>\n",
       "      <td>3.695501</td>\n",
       "      <td>0</td>\n",
       "      <td>8</td>\n",
       "    </tr>\n",
       "    <tr>\n",
       "      <th>4</th>\n",
       "      <td>240</td>\n",
       "      <td>24</td>\n",
       "      <td>1684</td>\n",
       "      <td>http://bostoncoffeecake.com/...</td>\n",
       "      <td>0</td>\n",
       "      <td>31</td>\n",
       "      <td>3.760017</td>\n",
       "      <td>0</td>\n",
       "      <td>8</td>\n",
       "    </tr>\n",
       "  </tbody>\n",
       "</table>\n",
       "</div>"
      ],
      "text/plain": [
       "   create_age(months)  expiry_age(months)  update_age(days)  \\\n",
       "0                  -1                  -1                -1   \n",
       "1                 212                  16               663   \n",
       "2                  -1                  -1                -1   \n",
       "3                 198                   6               186   \n",
       "4                 240                  24              1684   \n",
       "\n",
       "                                                 URL  Label  url_length  \\\n",
       "0  http://account-google-com.ngate.my/c44cca40176...      1          70   \n",
       "1               http://www.coffeespecialties.com/...      0          36   \n",
       "2  http://black.pk/wp-content/2013/04/bp.postale/...      1          73   \n",
       "3                    http://atomicsoda.com/manutd...      0          31   \n",
       "4                    http://bostoncoffeecake.com/...      0          31   \n",
       "\n",
       "   url_entropy  3rd_level_domain  count_non_alpha_full  \n",
       "0     4.612783                 0                    32  \n",
       "1     3.819114                 1                     9  \n",
       "2     4.370385                 0                    35  \n",
       "3     3.695501                 0                     8  \n",
       "4     3.760017                 0                     8  "
      ]
     },
     "execution_count": 45,
     "metadata": {},
     "output_type": "execute_result"
    }
   ],
   "source": [
    "df.head()"
   ]
  },
  {
   "cell_type": "code",
   "execution_count": 46,
   "id": "28ebb76f",
   "metadata": {},
   "outputs": [
    {
     "data": {
      "text/plain": [
       "(array([4.475e+03, 2.370e+02, 4.300e+01, 1.100e+01, 5.000e+00, 1.300e+01,\n",
       "        1.200e+01, 2.000e+00, 0.000e+00, 1.000e+00]),\n",
       " array([-115. ,  892.4, 1899.8, 2907.2, 3914.6, 4922. , 5929.4, 6936.8,\n",
       "        7944.2, 8951.6, 9959. ]),\n",
       " <BarContainer object of 10 artists>)"
      ]
     },
     "execution_count": 46,
     "metadata": {},
     "output_type": "execute_result"
    },
    {
     "data": {
      "image/png": "[encoded data removed]",
      "text/plain": [
       "<Figure size 432x288 with 1 Axes>"
      ]
     },
     "metadata": {
      "needs_background": "light"
     },
     "output_type": "display_data"
    }
   ],
   "source": [
    "plt.hist(df['update_age(days)'])"
   ]
  },
  {
   "cell_type": "code",
   "execution_count": 47,
   "id": "67fa7ebe",
   "metadata": {},
   "outputs": [
    {
     "data": {
      "text/plain": [
       "(4799, 9)"
      ]
     },
     "execution_count": 47,
     "metadata": {},
     "output_type": "execute_result"
    }
   ],
   "source": [
    "df.shape"
   ]
  },
  {
   "cell_type": "code",
   "execution_count": 48,
   "id": "3011a7ca",
   "metadata": {},
   "outputs": [
    {
     "name": "stderr",
     "output_type": "stream",
     "text": [
      "<ipython-input-48-d9a4c77fcb38>:3: SettingWithCopyWarning: \n",
      "A value is trying to be set on a copy of a slice from a DataFrame\n",
      "\n",
      "See the caveats in the documentation: https://pandas.pydata.org/pandas-docs/stable/user_guide/indexing.html#returning-a-view-versus-a-copy\n",
      "  df['create_age(months)'][df['create_age(months)']<0]=np.nan\n",
      "<ipython-input-48-d9a4c77fcb38>:4: SettingWithCopyWarning: \n",
      "A value is trying to be set on a copy of a slice from a DataFrame\n",
      "\n",
      "See the caveats in the documentation: https://pandas.pydata.org/pandas-docs/stable/user_guide/indexing.html#returning-a-view-versus-a-copy\n",
      "  df['expiry_age(months)'][df['expiry_age(months)']<0]=np.nan\n",
      "<ipython-input-48-d9a4c77fcb38>:5: SettingWithCopyWarning: \n",
      "A value is trying to be set on a copy of a slice from a DataFrame\n",
      "\n",
      "See the caveats in the documentation: https://pandas.pydata.org/pandas-docs/stable/user_guide/indexing.html#returning-a-view-versus-a-copy\n",
      "  df['update_age(days)'][df['update_age(days)']<0]=np.nan\n"
     ]
    }
   ],
   "source": [
    "#imputer\n",
    "\n",
    "df['create_age(months)'][df['create_age(months)']<0]=np.nan\n",
    "df['expiry_age(months)'][df['expiry_age(months)']<0]=np.nan\n",
    "df['update_age(days)'][df['update_age(days)']<0]=np.nan\n",
    "\n",
    "df_dropped = df.dropna()\n",
    "\n",
    "df_impute = df.copy()\n",
    "\n",
    "df_impute['create_age(months)'].fillna((df_impute['create_age(months)'].mean()),inplace=True)\n",
    "df_impute['expiry_age(months)'].fillna((df_impute['expiry_age(months)'].mean()),inplace=True)\n",
    "df_impute['update_age(days)'].fillna((df_impute['update_age(days)'].mean()),inplace=True)"
   ]
  },
  {
   "cell_type": "code",
   "execution_count": 49,
   "id": "31a66290",
   "metadata": {},
   "outputs": [],
   "source": [
    "#imputed df models\n",
    "X = df_impute[['create_age(months)','expiry_age(months)', 'update_age(days)', 'url_length', 'url_entropy',\n",
    "       '3rd_level_domain', 'count_non_alpha_full']]\n",
    "\n",
    "y = df_impute['Label']\n",
    "\n",
    "X_train, X_test, y_train, y_test = train_test_split(X, y, test_size=0.2, random_state=42)"
   ]
  },
  {
   "cell_type": "code",
   "execution_count": 50,
   "id": "d0066615",
   "metadata": {},
   "outputs": [
    {
     "name": "stderr",
     "output_type": "stream",
     "text": [
      "/opt/anaconda3/lib/python3.8/site-packages/sklearn/linear_model/_logistic.py:763: ConvergenceWarning: lbfgs failed to converge (status=1):\n",
      "STOP: TOTAL NO. of ITERATIONS REACHED LIMIT.\n",
      "\n",
      "Increase the number of iterations (max_iter) or scale the data as shown in:\n",
      "    https://scikit-learn.org/stable/modules/preprocessing.html\n",
      "Please also refer to the documentation for alternative solver options:\n",
      "    https://scikit-learn.org/stable/modules/linear_model.html#logistic-regression\n",
      "  n_iter_i = _check_optimize_result(\n"
     ]
    },
    {
     "data": {
      "text/plain": [
       "0.9117043121149898"
      ]
     },
     "execution_count": 50,
     "metadata": {},
     "output_type": "execute_result"
    }
   ],
   "source": [
    "logit = LogisticRegression().fit(X_train, y_train)\n",
    "y_pred = logit.predict(X_test)\n",
    "f1_score(y_test, y_pred)"
   ]
  },
  {
   "cell_type": "code",
   "execution_count": 51,
   "id": "ef0f5b3d",
   "metadata": {},
   "outputs": [
    {
     "data": {
      "text/plain": [
       "0.9063745019920318"
      ]
     },
     "execution_count": 51,
     "metadata": {},
     "output_type": "execute_result"
    }
   ],
   "source": [
    "KNN = KNeighborsClassifier().fit(X_train, y_train)\n",
    "y_pred = KNN.predict(X_test)\n",
    "f1_score(y_test, y_pred)"
   ]
  },
  {
   "cell_type": "code",
   "execution_count": 52,
   "id": "bd8d5437",
   "metadata": {},
   "outputs": [
    {
     "data": {
      "text/plain": [
       "0.8994923857868021"
      ]
     },
     "execution_count": 52,
     "metadata": {},
     "output_type": "execute_result"
    }
   ],
   "source": [
    "DTC = tree.DecisionTreeClassifier().fit(X_train, y_train)\n",
    "y_pred = DTC.predict(X_test)\n",
    "f1_score(y_test, y_pred)"
   ]
  },
  {
   "cell_type": "code",
   "execution_count": 53,
   "id": "9a745cab",
   "metadata": {},
   "outputs": [
    {
     "data": {
      "text/plain": [
       "0.8984293193717278"
      ]
     },
     "execution_count": 53,
     "metadata": {},
     "output_type": "execute_result"
    }
   ],
   "source": [
    "GNB = GaussianNB().fit(X_train, y_train)\n",
    "y_pred = GNB.predict(X_test)\n",
    "f1_score(y_test, y_pred)"
   ]
  },
  {
   "cell_type": "code",
   "execution_count": 54,
   "id": "54715262",
   "metadata": {},
   "outputs": [
    {
     "data": {
      "text/plain": [
       "0.8873379860418743"
      ]
     },
     "execution_count": 54,
     "metadata": {},
     "output_type": "execute_result"
    }
   ],
   "source": [
    "SVMC = svm.SVC().fit(X_train, y_train)\n",
    "y_pred = SVMC.predict(X_test)\n",
    "f1_score(y_test, y_pred)"
   ]
  },
  {
   "cell_type": "code",
   "execution_count": 55,
   "id": "068d8a08",
   "metadata": {},
   "outputs": [
    {
     "data": {
      "text/plain": [
       "0.8814229249011858"
      ]
     },
     "execution_count": 55,
     "metadata": {},
     "output_type": "execute_result"
    }
   ],
   "source": [
    "RF = RandomForestClassifier(max_depth=2, random_state=0).fit(X_train, y_train)\n",
    "y_pred = RF.predict(X_test)\n",
    "f1_score(y_test, y_pred)"
   ]
  },
  {
   "cell_type": "code",
   "execution_count": 56,
   "id": "617b21d6",
   "metadata": {},
   "outputs": [
    {
     "data": {
      "text/plain": [
       "0.9271255060728745"
      ]
     },
     "execution_count": 56,
     "metadata": {},
     "output_type": "execute_result"
    }
   ],
   "source": [
    "ADA = AdaBoostClassifier(n_estimators=50).fit(X_train, y_train)\n",
    "y_pred = ADA.predict(X_test)\n",
    "f1_score(y_test, y_pred)"
   ]
  },
  {
   "cell_type": "code",
   "execution_count": 57,
   "id": "5ca5598c",
   "metadata": {},
   "outputs": [
    {
     "data": {
      "text/plain": [
       "0.9271255060728745"
      ]
     },
     "execution_count": 57,
     "metadata": {},
     "output_type": "execute_result"
    }
   ],
   "source": [
    "ebm = ExplainableBoostingClassifier().fit(X_train, y_train)\n",
    "y_pred = ebm.predict(X_test)\n",
    "f1_score(y_test, y_pred)"
   ]
  },
  {
   "cell_type": "code",
   "execution_count": 58,
   "id": "f573a6cd",
   "metadata": {},
   "outputs": [
    {
     "name": "stderr",
     "output_type": "stream",
     "text": [
      "/opt/anaconda3/lib/python3.8/site-packages/xgboost/sklearn.py:888: UserWarning: The use of label encoder in XGBClassifier is deprecated and will be removed in a future release. To remove this warning, do the following: 1) Pass option use_label_encoder=False when constructing XGBClassifier object; and 2) Encode your labels (y) as integers starting with 0, i.e. 0, 1, 2, ..., [num_class - 1].\n",
      "  warnings.warn(label_encoder_deprecation_msg, UserWarning)\n"
     ]
    },
    {
     "name": "stdout",
     "output_type": "stream",
     "text": [
      "[14:56:30] WARNING: /opt/concourse/worker/volumes/live/7a2b9f41-3287-451b-6691-43e9a6c0910f/volume/xgboost-split_1619728204606/work/src/learner.cc:1061: Starting in XGBoost 1.3.0, the default evaluation metric used with the objective 'binary:logistic' was changed from 'error' to 'logloss'. Explicitly set eval_metric if you'd like to restore the old behavior.\n"
     ]
    },
    {
     "data": {
      "text/plain": [
       "0.9345417925478349"
      ]
     },
     "execution_count": 58,
     "metadata": {},
     "output_type": "execute_result"
    }
   ],
   "source": [
    "XGB = xgb.XGBClassifier().fit(X_train, y_train)\n",
    "y_pred = XGB.predict(X_test)\n",
    "f1_score(y_test, y_pred)"
   ]
  },
  {
   "cell_type": "code",
   "execution_count": 59,
   "id": "479dd678",
   "metadata": {},
   "outputs": [],
   "source": [
    "#dropped df models\n",
    "X = df_dropped[['create_age(months)','expiry_age(months)', 'update_age(days)', 'url_length', 'url_entropy',\n",
    "       '3rd_level_domain', 'count_non_alpha_full']]\n",
    "\n",
    "y = df_dropped['Label']\n",
    "\n",
    "X_train, X_test, y_train, y_test = train_test_split(X, y, test_size=0.2, random_state=1)"
   ]
  },
  {
   "cell_type": "code",
   "execution_count": 60,
   "id": "6bf5f335",
   "metadata": {},
   "outputs": [
    {
     "name": "stderr",
     "output_type": "stream",
     "text": [
      "/opt/anaconda3/lib/python3.8/site-packages/sklearn/linear_model/_logistic.py:763: ConvergenceWarning: lbfgs failed to converge (status=1):\n",
      "STOP: TOTAL NO. of ITERATIONS REACHED LIMIT.\n",
      "\n",
      "Increase the number of iterations (max_iter) or scale the data as shown in:\n",
      "    https://scikit-learn.org/stable/modules/preprocessing.html\n",
      "Please also refer to the documentation for alternative solver options:\n",
      "    https://scikit-learn.org/stable/modules/linear_model.html#logistic-regression\n",
      "  n_iter_i = _check_optimize_result(\n"
     ]
    },
    {
     "data": {
      "text/plain": [
       "0.9505962521294719"
      ]
     },
     "execution_count": 60,
     "metadata": {},
     "output_type": "execute_result"
    }
   ],
   "source": [
    "logit = LogisticRegression().fit(X_train, y_train)\n",
    "y_pred = logit.predict(X_test)\n",
    "f1_score(y_test, y_pred)"
   ]
  },
  {
   "cell_type": "code",
   "execution_count": 61,
   "id": "3ab5cffc",
   "metadata": {},
   "outputs": [
    {
     "data": {
      "text/plain": [
       "0.9147826086956522"
      ]
     },
     "execution_count": 61,
     "metadata": {},
     "output_type": "execute_result"
    }
   ],
   "source": [
    "KNN = KNeighborsClassifier().fit(X_train, y_train)\n",
    "y_pred = KNN.predict(X_test)\n",
    "f1_score(y_test, y_pred)"
   ]
  },
  {
   "cell_type": "code",
   "execution_count": 62,
   "id": "35386950",
   "metadata": {},
   "outputs": [
    {
     "data": {
      "text/plain": [
       "0.9375"
      ]
     },
     "execution_count": 62,
     "metadata": {},
     "output_type": "execute_result"
    }
   ],
   "source": [
    "DTC = tree.DecisionTreeClassifier().fit(X_train, y_train)\n",
    "y_pred = DTC.predict(X_test)\n",
    "f1_score(y_test, y_pred)"
   ]
  },
  {
   "cell_type": "code",
   "execution_count": 63,
   "id": "de13d169",
   "metadata": {},
   "outputs": [
    {
     "data": {
      "text/plain": [
       "0.9222972972972973"
      ]
     },
     "execution_count": 63,
     "metadata": {},
     "output_type": "execute_result"
    }
   ],
   "source": [
    "GNB = GaussianNB().fit(X_train, y_train)\n",
    "y_pred = GNB.predict(X_test)\n",
    "f1_score(y_test, y_pred)"
   ]
  },
  {
   "cell_type": "code",
   "execution_count": 64,
   "id": "ea7b4f97",
   "metadata": {},
   "outputs": [
    {
     "data": {
      "text/plain": [
       "0.883720930232558"
      ]
     },
     "execution_count": 64,
     "metadata": {},
     "output_type": "execute_result"
    }
   ],
   "source": [
    "SVMC = svm.SVC().fit(X_train, y_train)\n",
    "y_pred = SVMC.predict(X_test)\n",
    "f1_score(y_test, y_pred)"
   ]
  },
  {
   "cell_type": "code",
   "execution_count": 65,
   "id": "81ad623e",
   "metadata": {},
   "outputs": [
    {
     "data": {
      "text/plain": [
       "0.903225806451613"
      ]
     },
     "execution_count": 65,
     "metadata": {},
     "output_type": "execute_result"
    }
   ],
   "source": [
    "RF = RandomForestClassifier(max_depth=2, random_state=0).fit(X_train, y_train)\n",
    "y_pred = RF.predict(X_test)\n",
    "f1_score(y_test, y_pred)"
   ]
  },
  {
   "cell_type": "code",
   "execution_count": 66,
   "id": "d5cb7dc9",
   "metadata": {},
   "outputs": [
    {
     "data": {
      "text/plain": [
       "0.9637305699481864"
      ]
     },
     "execution_count": 66,
     "metadata": {},
     "output_type": "execute_result"
    }
   ],
   "source": [
    "ADA = AdaBoostClassifier(n_estimators=100, random_state=0).fit(X_train, y_train)\n",
    "y_pred = ADA.predict(X_test)\n",
    "f1_score(y_test, y_pred)"
   ]
  },
  {
   "cell_type": "code",
   "execution_count": 67,
   "id": "e9329551",
   "metadata": {},
   "outputs": [
    {
     "data": {
      "text/plain": [
       "0.9541595925297113"
      ]
     },
     "execution_count": 67,
     "metadata": {},
     "output_type": "execute_result"
    }
   ],
   "source": [
    "ebm = ExplainableBoostingClassifier().fit(X_train, y_train)\n",
    "y_pred = ebm.predict(X_test)\n",
    "f1_score(y_test, y_pred)"
   ]
  },
  {
   "cell_type": "code",
   "execution_count": 68,
   "id": "aa4d136a",
   "metadata": {},
   "outputs": [
    {
     "name": "stdout",
     "output_type": "stream",
     "text": [
      "[14:56:34] WARNING: /opt/concourse/worker/volumes/live/7a2b9f41-3287-451b-6691-43e9a6c0910f/volume/xgboost-split_1619728204606/work/src/learner.cc:1061: Starting in XGBoost 1.3.0, the default evaluation metric used with the objective 'binary:logistic' was changed from 'error' to 'logloss'. Explicitly set eval_metric if you'd like to restore the old behavior.\n"
     ]
    },
    {
     "name": "stderr",
     "output_type": "stream",
     "text": [
      "/opt/anaconda3/lib/python3.8/site-packages/xgboost/sklearn.py:888: UserWarning: The use of label encoder in XGBClassifier is deprecated and will be removed in a future release. To remove this warning, do the following: 1) Pass option use_label_encoder=False when constructing XGBClassifier object; and 2) Encode your labels (y) as integers starting with 0, i.e. 0, 1, 2, ..., [num_class - 1].\n",
      "  warnings.warn(label_encoder_deprecation_msg, UserWarning)\n"
     ]
    },
    {
     "data": {
      "text/plain": [
       "0.9554794520547946"
      ]
     },
     "execution_count": 68,
     "metadata": {},
     "output_type": "execute_result"
    }
   ],
   "source": [
    "XGB = xgb.XGBClassifier().fit(X_train, y_train)\n",
    "y_pred = XGB.predict(X_test)\n",
    "f1_score(y_test, y_pred)"
   ]
  },
  {
   "cell_type": "markdown",
   "id": "59b0667d",
   "metadata": {},
   "source": [
    "# Test Data"
   ]
  },
  {
   "cell_type": "code",
   "execution_count": 69,
   "id": "301679ef",
   "metadata": {},
   "outputs": [
    {
     "name": "stderr",
     "output_type": "stream",
     "text": [
      "<ipython-input-69-951b0c04da21>:10: SettingWithCopyWarning: \n",
      "A value is trying to be set on a copy of a slice from a DataFrame\n",
      "\n",
      "See the caveats in the documentation: https://pandas.pydata.org/pandas-docs/stable/user_guide/indexing.html#returning-a-view-versus-a-copy\n",
      "  test_df['create_age(months)'][test_df['create_age(months)']<0]=np.nan\n",
      "<ipython-input-69-951b0c04da21>:11: SettingWithCopyWarning: \n",
      "A value is trying to be set on a copy of a slice from a DataFrame\n",
      "\n",
      "See the caveats in the documentation: https://pandas.pydata.org/pandas-docs/stable/user_guide/indexing.html#returning-a-view-versus-a-copy\n",
      "  test_df['expiry_age(months)'][test_df['expiry_age(months)']<0]=np.nan\n",
      "<ipython-input-69-951b0c04da21>:12: SettingWithCopyWarning: \n",
      "A value is trying to be set on a copy of a slice from a DataFrame\n",
      "\n",
      "See the caveats in the documentation: https://pandas.pydata.org/pandas-docs/stable/user_guide/indexing.html#returning-a-view-versus-a-copy\n",
      "  test_df['update_age(days)'][test_df['update_age(days)']<0]=np.nan\n"
     ]
    }
   ],
   "source": [
    "test_df = pd.read_csv('Summer_of_AI_Test_Students.csv')\n",
    "\n",
    "test_df['url_length'] = test_df['URL'].apply(len)\n",
    "test_df['url_entropy'] = test_df['URL'].apply(entropy)\n",
    "test_df['3rd_level_domain'] = test_df['URL'].apply(has_www)\n",
    "\n",
    "test_df['count_non_alpha_full'] = test_df['URL'].str.findall(r'[^a-zA-Z]').str.len() \n",
    "\n",
    "\n",
    "test_df['create_age(months)'][test_df['create_age(months)']<0]=np.nan\n",
    "test_df['expiry_age(months)'][test_df['expiry_age(months)']<0]=np.nan\n",
    "test_df['update_age(days)'][test_df['update_age(days)']<0]=np.nan"
   ]
  },
  {
   "cell_type": "code",
   "execution_count": 70,
   "id": "082f4cbc",
   "metadata": {},
   "outputs": [],
   "source": [
    "X = test_df[['create_age(months)','expiry_age(months)', 'update_age(days)', 'url_length', 'url_entropy',\n",
    "       '3rd_level_domain', 'count_non_alpha_full']]"
   ]
  },
  {
   "cell_type": "code",
   "execution_count": 71,
   "id": "93f7f347",
   "metadata": {},
   "outputs": [],
   "source": [
    "test_df['Label'] = XGB.predict(X)"
   ]
  },
  {
   "cell_type": "code",
   "execution_count": 72,
   "id": "af4a77f8",
   "metadata": {},
   "outputs": [
    {
     "data": {
      "text/html": [
       "<div>\n",
       "<style scoped>\n",
       "    .dataframe tbody tr th:only-of-type {\n",
       "        vertical-align: middle;\n",
       "    }\n",
       "\n",
       "    .dataframe tbody tr th {\n",
       "        vertical-align: top;\n",
       "    }\n",
       "\n",
       "    .dataframe thead th {\n",
       "        text-align: right;\n",
       "    }\n",
       "</style>\n",
       "<table border=\"1\" class=\"dataframe\">\n",
       "  <thead>\n",
       "    <tr style=\"text-align: right;\">\n",
       "      <th></th>\n",
       "      <th>create_age(months)</th>\n",
       "      <th>expiry_age(months)</th>\n",
       "      <th>update_age(days)</th>\n",
       "      <th>URL</th>\n",
       "      <th>Label</th>\n",
       "      <th>url_length</th>\n",
       "      <th>url_entropy</th>\n",
       "      <th>3rd_level_domain</th>\n",
       "      <th>count_non_alpha_full</th>\n",
       "    </tr>\n",
       "  </thead>\n",
       "  <tbody>\n",
       "    <tr>\n",
       "      <th>0</th>\n",
       "      <td>200.0</td>\n",
       "      <td>40.0</td>\n",
       "      <td>114.0</td>\n",
       "      <td>http://www.classteacher.com/...</td>\n",
       "      <td>0</td>\n",
       "      <td>31</td>\n",
       "      <td>3.708093</td>\n",
       "      <td>1</td>\n",
       "      <td>9</td>\n",
       "    </tr>\n",
       "    <tr>\n",
       "      <th>1</th>\n",
       "      <td>210.0</td>\n",
       "      <td>6.0</td>\n",
       "      <td>181.0</td>\n",
       "      <td>http://www.deadendrecords.com/...</td>\n",
       "      <td>0</td>\n",
       "      <td>33</td>\n",
       "      <td>3.775476</td>\n",
       "      <td>1</td>\n",
       "      <td>9</td>\n",
       "    </tr>\n",
       "    <tr>\n",
       "      <th>2</th>\n",
       "      <td>98.0</td>\n",
       "      <td>22.0</td>\n",
       "      <td>81.0</td>\n",
       "      <td>http://www.specialisttrading.com/charts/4rfv/L...</td>\n",
       "      <td>1</td>\n",
       "      <td>73</td>\n",
       "      <td>4.477936</td>\n",
       "      <td>1</td>\n",
       "      <td>17</td>\n",
       "    </tr>\n",
       "    <tr>\n",
       "      <th>3</th>\n",
       "      <td>NaN</td>\n",
       "      <td>NaN</td>\n",
       "      <td>NaN</td>\n",
       "      <td>http://www.mingshun.com.tw/...</td>\n",
       "      <td>1</td>\n",
       "      <td>30</td>\n",
       "      <td>3.606239</td>\n",
       "      <td>1</td>\n",
       "      <td>10</td>\n",
       "    </tr>\n",
       "    <tr>\n",
       "      <th>4</th>\n",
       "      <td>181.0</td>\n",
       "      <td>11.0</td>\n",
       "      <td>426.0</td>\n",
       "      <td>http://www.jers.com/...</td>\n",
       "      <td>0</td>\n",
       "      <td>23</td>\n",
       "      <td>3.518370</td>\n",
       "      <td>1</td>\n",
       "      <td>9</td>\n",
       "    </tr>\n",
       "  </tbody>\n",
       "</table>\n",
       "</div>"
      ],
      "text/plain": [
       "   create_age(months)  expiry_age(months)  update_age(days)  \\\n",
       "0               200.0                40.0             114.0   \n",
       "1               210.0                 6.0             181.0   \n",
       "2                98.0                22.0              81.0   \n",
       "3                 NaN                 NaN               NaN   \n",
       "4               181.0                11.0             426.0   \n",
       "\n",
       "                                                 URL  Label  url_length  \\\n",
       "0                    http://www.classteacher.com/...      0          31   \n",
       "1                  http://www.deadendrecords.com/...      0          33   \n",
       "2  http://www.specialisttrading.com/charts/4rfv/L...      1          73   \n",
       "3                     http://www.mingshun.com.tw/...      1          30   \n",
       "4                            http://www.jers.com/...      0          23   \n",
       "\n",
       "   url_entropy  3rd_level_domain  count_non_alpha_full  \n",
       "0     3.708093                 1                     9  \n",
       "1     3.775476                 1                     9  \n",
       "2     4.477936                 1                    17  \n",
       "3     3.606239                 1                    10  \n",
       "4     3.518370                 1                     9  "
      ]
     },
     "execution_count": 72,
     "metadata": {},
     "output_type": "execute_result"
    }
   ],
   "source": [
    "test_df.head()"
   ]
  },
  {
   "cell_type": "code",
   "execution_count": null,
   "id": "a26e4b19",
   "metadata": {},
   "outputs": [],
   "source": []
  }
 ],
 "metadata": {
  "kernelspec": {
   "display_name": "Python 3",
   "language": "python",
   "name": "python3"
  },
  "language_info": {
   "codemirror_mode": {
    "name": "ipython",
    "version": 3
   },
   "file_extension": ".py",
   "mimetype": "text/x-python",
   "name": "python",
   "nbconvert_exporter": "python",
   "pygments_lexer": "ipython3",
   "version": "3.8.8"
  }
 },
 "nbformat": 4,
 "nbformat_minor": 5
}
