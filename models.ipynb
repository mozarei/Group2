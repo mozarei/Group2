{
 "cells": [
  {
   "cell_type": "markdown",
   "id": "9c8c727e",
   "metadata": {},
   "source": [
    "Session 2 notebook"
   ]
  },
  {
   "cell_type": "code",
   "execution_count": 143,
   "id": "1b084e3c",
   "metadata": {},
   "outputs": [],
   "source": [
    "import pandas as pd\n",
    "import numpy as np\n",
    "import math\n",
    "import matplotlib.pyplot as plt\n",
    "from sklearn.linear_model import LogisticRegression\n",
    "from sklearn.model_selection import train_test_split\n",
    "from tld import get_tld\n",
    "from sklearn.metrics import f1_score\n",
    "from sklearn.neighbors import KNeighborsClassifier\n",
    "from sklearn import tree\n",
    "from sklearn.naive_bayes import GaussianNB\n",
    "from sklearn import svm\n",
    "from sklearn.ensemble import AdaBoostClassifier\n",
    "from sklearn.ensemble import RandomForestClassifier"
   ]
  },
  {
   "cell_type": "code",
   "execution_count": 144,
   "id": "e8a61b79",
   "metadata": {},
   "outputs": [],
   "source": [
    "df = pd.read_csv('Phishing_Mitre_Dataset_Summer_of_AI.csv')"
   ]
  },
  {
   "cell_type": "code",
   "execution_count": 145,
   "id": "b688d40a",
   "metadata": {},
   "outputs": [],
   "source": [
    "#create URL features\n",
    "\n",
    "def entropy(url_string):\n",
    "        string = url_string.strip()\n",
    "        prob = [float(string.count(c)) / len(string) for c in dict.fromkeys(list(string))]\n",
    "        entropy = sum([(p * math.log(p) / math.log(2.0)) for p in prob])\n",
    "        return abs(entropy)\n",
    "    \n",
    "def has_www(url_string):\n",
    "    if (url_string.find('www.') == -1):\n",
    "        return 0\n",
    "    else:\n",
    "        return 1\n",
    "    \n",
    "df['url_length'] = df['URL'].apply(len)\n",
    "df['url_entropy'] = df['URL'].apply(entropy)\n",
    "df['3rd_level_domain'] = df['URL'].apply(has_www)\n",
    "\n",
    "df['count_non_alpha_full'] = df['URL'].str.findall(r'[^a-zA-Z]').str.len() / df['url_length']\n"
   ]
  },
  {
   "cell_type": "code",
   "execution_count": 146,
   "id": "b41240e3",
   "metadata": {},
   "outputs": [
    {
     "data": {
      "text/html": [
       "<div>\n",
       "<style scoped>\n",
       "    .dataframe tbody tr th:only-of-type {\n",
       "        vertical-align: middle;\n",
       "    }\n",
       "\n",
       "    .dataframe tbody tr th {\n",
       "        vertical-align: top;\n",
       "    }\n",
       "\n",
       "    .dataframe thead th {\n",
       "        text-align: right;\n",
       "    }\n",
       "</style>\n",
       "<table border=\"1\" class=\"dataframe\">\n",
       "  <thead>\n",
       "    <tr style=\"text-align: right;\">\n",
       "      <th></th>\n",
       "      <th>create_age(months)</th>\n",
       "      <th>expiry_age(months)</th>\n",
       "      <th>update_age(days)</th>\n",
       "      <th>URL</th>\n",
       "      <th>Label</th>\n",
       "      <th>url_length</th>\n",
       "      <th>url_entropy</th>\n",
       "      <th>3rd_level_domain</th>\n",
       "      <th>count_non_alpha_full</th>\n",
       "    </tr>\n",
       "  </thead>\n",
       "  <tbody>\n",
       "    <tr>\n",
       "      <th>0</th>\n",
       "      <td>-1</td>\n",
       "      <td>-1</td>\n",
       "      <td>-1</td>\n",
       "      <td>http://account-google-com.ngate.my/c44cca40176...</td>\n",
       "      <td>1</td>\n",
       "      <td>70</td>\n",
       "      <td>4.612783</td>\n",
       "      <td>0</td>\n",
       "      <td>0.457143</td>\n",
       "    </tr>\n",
       "    <tr>\n",
       "      <th>1</th>\n",
       "      <td>212</td>\n",
       "      <td>16</td>\n",
       "      <td>663</td>\n",
       "      <td>http://www.coffeespecialties.com/...</td>\n",
       "      <td>0</td>\n",
       "      <td>36</td>\n",
       "      <td>3.819114</td>\n",
       "      <td>1</td>\n",
       "      <td>0.250000</td>\n",
       "    </tr>\n",
       "    <tr>\n",
       "      <th>2</th>\n",
       "      <td>-1</td>\n",
       "      <td>-1</td>\n",
       "      <td>-1</td>\n",
       "      <td>http://black.pk/wp-content/2013/04/bp.postale/...</td>\n",
       "      <td>1</td>\n",
       "      <td>73</td>\n",
       "      <td>4.370385</td>\n",
       "      <td>0</td>\n",
       "      <td>0.479452</td>\n",
       "    </tr>\n",
       "    <tr>\n",
       "      <th>3</th>\n",
       "      <td>198</td>\n",
       "      <td>6</td>\n",
       "      <td>186</td>\n",
       "      <td>http://atomicsoda.com/manutd...</td>\n",
       "      <td>0</td>\n",
       "      <td>31</td>\n",
       "      <td>3.695501</td>\n",
       "      <td>0</td>\n",
       "      <td>0.258065</td>\n",
       "    </tr>\n",
       "    <tr>\n",
       "      <th>4</th>\n",
       "      <td>240</td>\n",
       "      <td>24</td>\n",
       "      <td>1684</td>\n",
       "      <td>http://bostoncoffeecake.com/...</td>\n",
       "      <td>0</td>\n",
       "      <td>31</td>\n",
       "      <td>3.760017</td>\n",
       "      <td>0</td>\n",
       "      <td>0.258065</td>\n",
       "    </tr>\n",
       "  </tbody>\n",
       "</table>\n",
       "</div>"
      ],
      "text/plain": [
       "   create_age(months)  expiry_age(months)  update_age(days)  \\\n",
       "0                  -1                  -1                -1   \n",
       "1                 212                  16               663   \n",
       "2                  -1                  -1                -1   \n",
       "3                 198                   6               186   \n",
       "4                 240                  24              1684   \n",
       "\n",
       "                                                 URL  Label  url_length  \\\n",
       "0  http://account-google-com.ngate.my/c44cca40176...      1          70   \n",
       "1               http://www.coffeespecialties.com/...      0          36   \n",
       "2  http://black.pk/wp-content/2013/04/bp.postale/...      1          73   \n",
       "3                    http://atomicsoda.com/manutd...      0          31   \n",
       "4                    http://bostoncoffeecake.com/...      0          31   \n",
       "\n",
       "   url_entropy  3rd_level_domain  count_non_alpha_full  \n",
       "0     4.612783                 0              0.457143  \n",
       "1     3.819114                 1              0.250000  \n",
       "2     4.370385                 0              0.479452  \n",
       "3     3.695501                 0              0.258065  \n",
       "4     3.760017                 0              0.258065  "
      ]
     },
     "execution_count": 146,
     "metadata": {},
     "output_type": "execute_result"
    }
   ],
   "source": [
    "df.head()"
   ]
  },
  {
   "cell_type": "code",
   "execution_count": 147,
   "id": "3e454a26",
   "metadata": {},
   "outputs": [
    {
     "data": {
      "text/plain": [
       "(array([4.475e+03, 2.370e+02, 4.300e+01, 1.100e+01, 5.000e+00, 1.300e+01,\n",
       "        1.200e+01, 2.000e+00, 0.000e+00, 1.000e+00]),\n",
       " array([-115. ,  892.4, 1899.8, 2907.2, 3914.6, 4922. , 5929.4, 6936.8,\n",
       "        7944.2, 8951.6, 9959. ]),\n",
       " <BarContainer object of 10 artists>)"
      ]
     },
     "execution_count": 147,
     "metadata": {},
     "output_type": "execute_result"
    },
    {
     "data": {
      "image/png": "[encoded data removed]",
      "text/plain": [
       "<Figure size 432x288 with 1 Axes>"
      ]
     },
     "metadata": {
      "needs_background": "light"
     },
     "output_type": "display_data"
    }
   ],
   "source": [
    "plt.hist(df['update_age(days)'])"
   ]
  },
  {
   "cell_type": "code",
   "execution_count": 148,
   "id": "6f46e00b",
   "metadata": {},
   "outputs": [
    {
     "data": {
      "text/plain": [
       "(4799, 9)"
      ]
     },
     "execution_count": 148,
     "metadata": {},
     "output_type": "execute_result"
    }
   ],
   "source": [
    "df.shape"
   ]
  },
  {
   "cell_type": "code",
   "execution_count": 149,
   "id": "177a4abc",
   "metadata": {},
   "outputs": [
    {
     "name": "stderr",
     "output_type": "stream",
     "text": [
      "<ipython-input-149-d9a4c77fcb38>:3: SettingWithCopyWarning: \n",
      "A value is trying to be set on a copy of a slice from a DataFrame\n",
      "\n",
      "See the caveats in the documentation: https://pandas.pydata.org/pandas-docs/stable/user_guide/indexing.html#returning-a-view-versus-a-copy\n",
      "  df['create_age(months)'][df['create_age(months)']<0]=np.nan\n",
      "<ipython-input-149-d9a4c77fcb38>:4: SettingWithCopyWarning: \n",
      "A value is trying to be set on a copy of a slice from a DataFrame\n",
      "\n",
      "See the caveats in the documentation: https://pandas.pydata.org/pandas-docs/stable/user_guide/indexing.html#returning-a-view-versus-a-copy\n",
      "  df['expiry_age(months)'][df['expiry_age(months)']<0]=np.nan\n",
      "<ipython-input-149-d9a4c77fcb38>:5: SettingWithCopyWarning: \n",
      "A value is trying to be set on a copy of a slice from a DataFrame\n",
      "\n",
      "See the caveats in the documentation: https://pandas.pydata.org/pandas-docs/stable/user_guide/indexing.html#returning-a-view-versus-a-copy\n",
      "  df['update_age(days)'][df['update_age(days)']<0]=np.nan\n"
     ]
    }
   ],
   "source": [
    "#imputer\n",
    "\n",
    "df['create_age(months)'][df['create_age(months)']<0]=np.nan\n",
    "df['expiry_age(months)'][df['expiry_age(months)']<0]=np.nan\n",
    "df['update_age(days)'][df['update_age(days)']<0]=np.nan\n",
    "\n",
    "df_dropped = df.dropna()\n",
    "\n",
    "df_impute = df.copy()\n",
    "\n",
    "df_impute['create_age(months)'].fillna((df_impute['create_age(months)'].mean()),inplace=True)\n",
    "df_impute['expiry_age(months)'].fillna((df_impute['expiry_age(months)'].mean()),inplace=True)\n",
    "df_impute['update_age(days)'].fillna((df_impute['update_age(days)'].mean()),inplace=True)"
   ]
  },
  {
   "cell_type": "code",
   "execution_count": 150,
   "id": "060332f9",
   "metadata": {},
   "outputs": [
    {
     "data": {
      "text/plain": [
       "(3263, 9)"
      ]
     },
     "execution_count": 150,
     "metadata": {},
     "output_type": "execute_result"
    }
   ],
   "source": [
    "df_dropped.shape"
   ]
  },
  {
   "cell_type": "code",
   "execution_count": 151,
   "id": "62f8978b",
   "metadata": {},
   "outputs": [],
   "source": [
    "#dropped df models\n",
    "X = df_dropped[['create_age(months)','expiry_age(months)', 'update_age(days)', 'url_length', 'url_entropy',\n",
    "       '3rd_level_domain', 'count_non_alpha_full']]\n",
    "\n",
    "y = df_dropped['Label']\n",
    "\n",
    "X_train, X_test, y_train, y_test = train_test_split(X, y, test_size=0.2, random_state=42)"
   ]
  },
  {
   "cell_type": "code",
   "execution_count": 152,
   "id": "30d89b47",
   "metadata": {},
   "outputs": [
    {
     "name": "stderr",
     "output_type": "stream",
     "text": [
      "/opt/anaconda3/lib/python3.8/site-packages/sklearn/linear_model/_logistic.py:763: ConvergenceWarning: lbfgs failed to converge (status=1):\n",
      "STOP: TOTAL NO. of ITERATIONS REACHED LIMIT.\n",
      "\n",
      "Increase the number of iterations (max_iter) or scale the data as shown in:\n",
      "    https://scikit-learn.org/stable/modules/preprocessing.html\n",
      "Please also refer to the documentation for alternative solver options:\n",
      "    https://scikit-learn.org/stable/modules/linear_model.html#logistic-regression\n",
      "  n_iter_i = _check_optimize_result(\n"
     ]
    },
    {
     "data": {
      "text/plain": [
       "0.9263157894736842"
      ]
     },
     "execution_count": 152,
     "metadata": {},
     "output_type": "execute_result"
    }
   ],
   "source": [
    "logit = LogisticRegression().fit(X_train, y_train)\n",
    "y_pred = logit.predict(X_test)\n",
    "f1_score(y_test, y_pred)"
   ]
  },
  {
   "cell_type": "code",
   "execution_count": 153,
   "id": "e799e240",
   "metadata": {},
   "outputs": [
    {
     "data": {
      "text/plain": [
       "0.9219858156028369"
      ]
     },
     "execution_count": 153,
     "metadata": {},
     "output_type": "execute_result"
    }
   ],
   "source": [
    "KNN = KNeighborsClassifier().fit(X_train, y_train)\n",
    "y_pred = KNN.predict(X_test)\n",
    "f1_score(y_test, y_pred)"
   ]
  },
  {
   "cell_type": "code",
   "execution_count": 154,
   "id": "57035872",
   "metadata": {},
   "outputs": [
    {
     "data": {
      "text/plain": [
       "0.9280575539568345"
      ]
     },
     "execution_count": 154,
     "metadata": {},
     "output_type": "execute_result"
    }
   ],
   "source": [
    "DTC = tree.DecisionTreeClassifier().fit(X_train, y_train)\n",
    "y_pred = DTC.predict(X_test)\n",
    "f1_score(y_test, y_pred)"
   ]
  },
  {
   "cell_type": "code",
   "execution_count": 155,
   "id": "340e9f4e",
   "metadata": {},
   "outputs": [
    {
     "data": {
      "text/plain": [
       "0.9084628670120899"
      ]
     },
     "execution_count": 155,
     "metadata": {},
     "output_type": "execute_result"
    }
   ],
   "source": [
    "GNB = GaussianNB().fit(X_train, y_train)\n",
    "y_pred = GNB.predict(X_test)\n",
    "f1_score(y_test, y_pred)"
   ]
  },
  {
   "cell_type": "code",
   "execution_count": 156,
   "id": "400c8ade",
   "metadata": {},
   "outputs": [
    {
     "data": {
      "text/plain": [
       "0.884476534296029"
      ]
     },
     "execution_count": 156,
     "metadata": {},
     "output_type": "execute_result"
    }
   ],
   "source": [
    "SVMC = svm.SVC().fit(X_train, y_train)\n",
    "y_pred = SVMC.predict(X_test)\n",
    "f1_score(y_test, y_pred)"
   ]
  },
  {
   "cell_type": "code",
   "execution_count": 157,
   "id": "5831e99e",
   "metadata": {},
   "outputs": [
    {
     "data": {
      "text/plain": [
       "0.8761220825852785"
      ]
     },
     "execution_count": 157,
     "metadata": {},
     "output_type": "execute_result"
    }
   ],
   "source": [
    "RF = RandomForestClassifier(max_depth=2, random_state=0).fit(X_train, y_train)\n",
    "y_pred = RF.predict(X_test)\n",
    "f1_score(y_test, y_pred)"
   ]
  },
  {
   "cell_type": "code",
   "execution_count": 158,
   "id": "028ab0ed",
   "metadata": {},
   "outputs": [
    {
     "data": {
      "text/plain": [
       "0.9449378330373002"
      ]
     },
     "execution_count": 158,
     "metadata": {},
     "output_type": "execute_result"
    }
   ],
   "source": [
    "ADA = AdaBoostClassifier(n_estimators=100, random_state=0).fit(X_train, y_train)\n",
    "y_pred = ADA.predict(X_test)\n",
    "f1_score(y_test, y_pred)"
   ]
  },
  {
   "cell_type": "code",
   "execution_count": 159,
   "id": "a58dc65a",
   "metadata": {},
   "outputs": [],
   "source": [
    "#imputed df models"
   ]
  },
  {
   "cell_type": "code",
   "execution_count": 160,
   "id": "1795a6d5",
   "metadata": {},
   "outputs": [],
   "source": [
    "#dropped df models\n",
    "X = df_impute[['create_age(months)','expiry_age(months)', 'update_age(days)', 'url_length', 'url_entropy',\n",
    "       '3rd_level_domain', 'count_non_alpha_full']]\n",
    "\n",
    "y = df_impute['Label']\n",
    "\n",
    "X_train, X_test, y_train, y_test = train_test_split(X, y, test_size=0.2, random_state=42)"
   ]
  },
  {
   "cell_type": "code",
   "execution_count": 161,
   "id": "c016d30c",
   "metadata": {},
   "outputs": [
    {
     "name": "stderr",
     "output_type": "stream",
     "text": [
      "/opt/anaconda3/lib/python3.8/site-packages/sklearn/linear_model/_logistic.py:763: ConvergenceWarning: lbfgs failed to converge (status=1):\n",
      "STOP: TOTAL NO. of ITERATIONS REACHED LIMIT.\n",
      "\n",
      "Increase the number of iterations (max_iter) or scale the data as shown in:\n",
      "    https://scikit-learn.org/stable/modules/preprocessing.html\n",
      "Please also refer to the documentation for alternative solver options:\n",
      "    https://scikit-learn.org/stable/modules/linear_model.html#logistic-regression\n",
      "  n_iter_i = _check_optimize_result(\n"
     ]
    },
    {
     "data": {
      "text/plain": [
       "0.9050051072522983"
      ]
     },
     "execution_count": 161,
     "metadata": {},
     "output_type": "execute_result"
    }
   ],
   "source": [
    "logit = LogisticRegression().fit(X_train, y_train)\n",
    "y_pred = logit.predict(X_test)\n",
    "f1_score(y_test, y_pred)"
   ]
  },
  {
   "cell_type": "code",
   "execution_count": 162,
   "id": "18cbdf8f",
   "metadata": {},
   "outputs": [
    {
     "data": {
      "text/plain": [
       "0.8988988988988988"
      ]
     },
     "execution_count": 162,
     "metadata": {},
     "output_type": "execute_result"
    }
   ],
   "source": [
    "KNN = KNeighborsClassifier().fit(X_train, y_train)\n",
    "y_pred = KNN.predict(X_test)\n",
    "f1_score(y_test, y_pred)"
   ]
  },
  {
   "cell_type": "code",
   "execution_count": 163,
   "id": "12e2e5d6",
   "metadata": {},
   "outputs": [
    {
     "data": {
      "text/plain": [
       "0.9016393442622951"
      ]
     },
     "execution_count": 163,
     "metadata": {},
     "output_type": "execute_result"
    }
   ],
   "source": [
    "DTC = tree.DecisionTreeClassifier().fit(X_train, y_train)\n",
    "y_pred = DTC.predict(X_test)\n",
    "f1_score(y_test, y_pred)"
   ]
  },
  {
   "cell_type": "code",
   "execution_count": 164,
   "id": "25f29aa0",
   "metadata": {},
   "outputs": [
    {
     "data": {
      "text/plain": [
       "0.9034205231388329"
      ]
     },
     "execution_count": 164,
     "metadata": {},
     "output_type": "execute_result"
    }
   ],
   "source": [
    "GNB = GaussianNB().fit(X_train, y_train)\n",
    "y_pred = GNB.predict(X_test)\n",
    "f1_score(y_test, y_pred)"
   ]
  },
  {
   "cell_type": "code",
   "execution_count": 165,
   "id": "d1beab23",
   "metadata": {},
   "outputs": [
    {
     "data": {
      "text/plain": [
       "0.8866799204771372"
      ]
     },
     "execution_count": 165,
     "metadata": {},
     "output_type": "execute_result"
    }
   ],
   "source": [
    "SVMC = svm.SVC().fit(X_train, y_train)\n",
    "y_pred = SVMC.predict(X_test)\n",
    "f1_score(y_test, y_pred)"
   ]
  },
  {
   "cell_type": "code",
   "execution_count": 166,
   "id": "a5316ff6",
   "metadata": {},
   "outputs": [
    {
     "data": {
      "text/plain": [
       "0.888663967611336"
      ]
     },
     "execution_count": 166,
     "metadata": {},
     "output_type": "execute_result"
    }
   ],
   "source": [
    "RF = RandomForestClassifier(max_depth=2, random_state=0).fit(X_train, y_train)\n",
    "y_pred = RF.predict(X_test)\n",
    "f1_score(y_test, y_pred)"
   ]
  },
  {
   "cell_type": "code",
   "execution_count": 167,
   "id": "ad77a582",
   "metadata": {},
   "outputs": [
    {
     "data": {
      "text/plain": [
       "0.9274770173646578"
      ]
     },
     "execution_count": 167,
     "metadata": {},
     "output_type": "execute_result"
    }
   ],
   "source": [
    "ADA = AdaBoostClassifier(n_estimators=100, random_state=0).fit(X_train, y_train)\n",
    "y_pred = ADA.predict(X_test)\n",
    "f1_score(y_test, y_pred)"
   ]
  },
  {
   "cell_type": "code",
   "execution_count": null,
   "id": "18055993",
   "metadata": {},
   "outputs": [],
   "source": []
  },
  {
   "cell_type": "code",
   "execution_count": null,
   "id": "00aa6736",
   "metadata": {},
   "outputs": [],
   "source": []
  }
 ],
 "metadata": {
  "kernelspec": {
   "display_name": "Python 3",
   "language": "python",
   "name": "python3"
  },
  "language_info": {
   "codemirror_mode": {
    "name": "ipython",
    "version": 3
   },
   "file_extension": ".py",
   "mimetype": "text/x-python",
   "name": "python",
   "nbconvert_exporter": "python",
   "pygments_lexer": "ipython3",
   "version": "3.8.8"
  }
 },
 "nbformat": 4,
 "nbformat_minor": 5
}
